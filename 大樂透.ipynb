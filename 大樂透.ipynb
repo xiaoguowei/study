{
 "cells": [
  {
   "cell_type": "code",
   "execution_count": 63,
   "metadata": {},
   "outputs": [
    {
     "name": "stdout",
     "output_type": "stream",
     "text": [
      "歡迎光臨大樂透,請於01~49中任選6個號碼進行投注\n",
      "第一個號碼是:5\n",
      "第二個號碼是:15\n",
      "第三個號碼是:8\n",
      "第四個號碼是:7\n",
      "第五個號碼是:6\n",
      "第六個號碼是:49\n",
      "你選的六個號碼為: [5, 15, 8, 7, 6, 49]\n",
      "正在開獎請稍後\n",
      "大樂透本期開獎號碼為: [7, 16, 24, 47, 30, 3],特別號碼為: [33]\n",
      "你的中了1個號碼,中獎號碼為:[7]\n"
     ]
    }
   ],
   "source": [
    "import time\n",
    "import random\n",
    "user_number=list() #接收用戶選的6個號碼\n",
    "while len(user_number)<6:\n",
    "    print('歡迎光臨大樂透,請於01~49中任選6個號碼進行投注')\n",
    "    a_one=int(input('第一個號碼是:'))\n",
    "    user_number.append(a_one)\n",
    "    a_two=int(input('第二個號碼是:'))\n",
    "    user_number.append(a_two)\n",
    "    a_three=int(input('第三個號碼是:'))\n",
    "    user_number.append(a_three)\n",
    "    a_four=int(input('第四個號碼是:'))\n",
    "    user_number.append(a_four)\n",
    "    a_five=int(input('第五個號碼是:'))\n",
    "    user_number.append(a_five)\n",
    "    a_six=int(input('第六個號碼是:'))\n",
    "    user_number.append(a_six)\n",
    "print('你選的六個號碼為: {}'.format(user_number))\n",
    "time.sleep(1)\n",
    "print('正在開獎請稍後')\n",
    "time.sleep(5)\n",
    "\n",
    "number=list(range(1,50))#生成1~49號碼\n",
    "big_number=random.sample(number,7) #大樂透中獎的7個號碼\n",
    "specially_number=random.sample(big_number,1)#從已中獎的7個號碼抽一個當特別號\n",
    "for _ in specially_number:\n",
    "    big_number.remove(_) #刪除原本7個號碼中的特別號\n",
    "print('大樂透本期開獎號碼為: {0},特別號碼為: {1}'.format(big_number,specially_number))\n",
    "\n",
    "combo_number=list()#接受用戶已中獎號碼\n",
    "for i in user_number: #循環用戶選的號碼\n",
    "    if i in big_number: #如果用戶選的這個號碼是存在於中獎號碼中\n",
    "        combo_number.append(i) #就添加到已中獎號碼中\n",
    "\n",
    "count_number=len(combo_number) #已中獎號碼長度\n",
    "if sorted(combo_number) == sorted(big_number): #如果排序後的號碼等於排序后的大樂透號碼就是頭獎\n",
    "    print(\"恭喜你中了頭將\")\n",
    "elif count_number != 0 :\n",
    "    combo_number_sort=sorted(combo_number)\n",
    "    print('你的中了{0}個號碼,中獎號碼為:{1}'.format(count_number,combo_number_sort))\n",
    "else:\n",
    "    print(\"你中了{0}個號碼,沒有中獎\".format(count_number))"
   ]
  },
  {
   "cell_type": "code",
   "execution_count": null,
   "metadata": {},
   "outputs": [],
   "source": []
  }
 ],
 "metadata": {
  "kernelspec": {
   "display_name": "Python 3",
   "language": "python",
   "name": "python3"
  },
  "language_info": {
   "codemirror_mode": {
    "name": "ipython",
    "version": 3
   },
   "file_extension": ".py",
   "mimetype": "text/x-python",
   "name": "python",
   "nbconvert_exporter": "python",
   "pygments_lexer": "ipython3",
   "version": "3.7.6"
  }
 },
 "nbformat": 4,
 "nbformat_minor": 4
}
